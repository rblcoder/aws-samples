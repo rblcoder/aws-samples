{
	"metadata": {
		"kernelspec": {
			"name": "glue_pyspark",
			"display_name": "Glue PySpark",
			"language": "python"
		},
		"language_info": {
			"name": "Python_Glue_Session",
			"mimetype": "text/x-python",
			"codemirror_mode": {
				"name": "python",
				"version": 3
			},
			"pygments_lexer": "python3",
			"file_extension": ".py"
		}
	},
	"nbformat_minor": 4,
	"nbformat": 4,
	"cells": [
		{
			"cell_type": "markdown",
			"source": "# AWS Glue Studio Notebook\n##### You are now running a AWS Glue Studio notebook; To start using your notebook you need to start an AWS Glue Interactive Session.\n",
			"metadata": {
				"editable": true,
				"trusted": true
			}
		},
		{
			"cell_type": "markdown",
			"source": "#### Optional: Run this cell to see available notebook commands (\"magics\").\n",
			"metadata": {
				"editable": true,
				"trusted": true
			}
		},
		{
			"cell_type": "code",
			"source": "%help",
			"metadata": {
				"trusted": true,
				"editable": true
			},
			"execution_count": null,
			"outputs": []
		},
		{
			"cell_type": "markdown",
			"source": "####  Run this cell to set up and start your interactive session.\n",
			"metadata": {
				"editable": true,
				"trusted": true
			}
		},
		{
			"cell_type": "code",
			"source": "%idle_timeout 2880\n%glue_version 4.0\n%worker_type G.1X\n%number_of_workers 5\n\nimport sys\nfrom awsglue.transforms import *\nfrom awsglue.utils import getResolvedOptions\nfrom pyspark.context import SparkContext\nfrom awsglue.context import GlueContext\nfrom awsglue.job import Job\n  \nsc = SparkContext.getOrCreate()\nglueContext = GlueContext(sc)\nspark = glueContext.spark_session\njob = Job(glueContext)",
			"metadata": {
				"trusted": true,
				"editable": true
			},
			"execution_count": 1,
			"outputs": [
				{
					"name": "stdout",
					"text": "Current idle_timeout is 2880 minutes.\nidle_timeout has been set to 2880 minutes.\nSetting Glue version to: 4.0\nPrevious worker type: G.1X\nSetting new worker type to: G.1X\nPrevious number of workers: 5\nSetting new number of workers to: 5\nTrying to create a Glue session for the kernel.\nSession Type: glueetl\nWorker Type: G.1X\nNumber of Workers: 5\nSession ID: 4f0ce413-f578-40fe-ba00-cba060e70a4f\nApplying the following default arguments:\n--glue_kernel_version 1.0.4\n--enable-glue-datacatalog true\nWaiting for session 4f0ce413-f578-40fe-ba00-cba060e70a4f to get into ready status...\nSession 4f0ce413-f578-40fe-ba00-cba060e70a4f has been created.\n\n",
					"output_type": "stream"
				}
			]
		},
		{
			"cell_type": "markdown",
			"source": "#### Example: Create a DynamicFrame from a table in the AWS Glue Data Catalog and display its schema\n",
			"metadata": {
				"editable": true,
				"trusted": true
			}
		},
		{
			"cell_type": "code",
			"source": "dyf = glueContext.create_dynamic_frame.from_catalog(database='test-flights-db', table_name='flightscsv')\ndyf.printSchema()",
			"metadata": {
				"trusted": true,
				"editable": true
			},
			"execution_count": 2,
			"outputs": [
				{
					"name": "stdout",
					"text": "root\n|-- year: long\n|-- quarter: long\n|-- month: long\n|-- day_of_month: long\n|-- day_of_week: long\n|-- fl_date: string\n|-- unique_carrier: string\n|-- airline_id: long\n|-- carrier: string\n|-- tail_num: string\n|-- fl_num: long\n|-- origin_airport_id: long\n|-- origin_airport_seq_id: long\n|-- origin_city_market_id: long\n|-- origin: string\n|-- origin_city_name: string\n|-- origin_state_abr: string\n|-- origin_state_fips: long\n|-- origin_state_nm: string\n|-- origin_wac: long\n|-- dest_airport_id: long\n|-- dest_airport_seq_id: long\n|-- dest_city_market_id: long\n|-- dest: string\n|-- dest_city_name: string\n|-- dest_state_abr: string\n|-- dest_state_fips: long\n|-- dest_state_nm: string\n|-- dest_wac: long\n|-- crs_dep_time: long\n|-- dep_time: long\n|-- dep_delay: long\n|-- dep_delay_new: long\n|-- dep_del15: long\n|-- dep_delay_group: long\n|-- dep_time_blk: string\n|-- taxi_out: long\n|-- wheels_off: long\n|-- wheels_on: long\n|-- taxi_in: long\n|-- crs_arr_time: long\n|-- arr_time: long\n|-- arr_delay: long\n|-- arr_delay_new: long\n|-- arr_del15: long\n|-- arr_delay_group: long\n|-- arr_time_blk: string\n|-- cancelled: long\n|-- cancellation_code: string\n|-- diverted: long\n|-- crs_elapsed_time: long\n|-- actual_elapsed_time: long\n|-- air_time: long\n|-- flights: long\n|-- distance: long\n|-- distance_group: long\n|-- mon: string\n|-- carrier_delay: long\n|-- weather_delay: long\n|-- nas_delay: long\n|-- security_delay: long\n|-- late_aircraft_delay: long\n|-- first_dep_time: long\n|-- total_add_gtime: long\n|-- longest_add_gtime: long\n",
					"output_type": "stream"
				}
			]
		},
		{
			"cell_type": "markdown",
			"source": "#### Example: Convert the DynamicFrame to a Spark DataFrame and display a sample of the data\n",
			"metadata": {
				"editable": true,
				"trusted": true
			}
		},
		{
			"cell_type": "code",
			"source": "df = dyf.toDF()\ndf.show()",
			"metadata": {
				"trusted": true,
				"editable": true
			},
			"execution_count": 3,
			"outputs": [
				{
					"name": "stdout",
					"text": "+----+-------+-----+------------+-----------+--------+--------------+----------+-------+--------+------+-----------------+---------------------+---------------------+------+------------------+----------------+-----------------+---------------+----------+---------------+-------------------+-------------------+----+---------------+--------------+---------------+-------------+--------+------------+--------+---------+-------------+---------+---------------+------------+--------+----------+---------+-------+------------+--------+---------+-------------+---------+---------------+------------+---------+-----------------+--------+----------------+-------------------+--------+-------+--------+--------------+---+-------------+-------------+---------+--------------+-------------------+--------------+---------------+-----------------+\n|year|quarter|month|day_of_month|day_of_week| fl_date|unique_carrier|airline_id|carrier|tail_num|fl_num|origin_airport_id|origin_airport_seq_id|origin_city_market_id|origin|  origin_city_name|origin_state_abr|origin_state_fips|origin_state_nm|origin_wac|dest_airport_id|dest_airport_seq_id|dest_city_market_id|dest| dest_city_name|dest_state_abr|dest_state_fips|dest_state_nm|dest_wac|crs_dep_time|dep_time|dep_delay|dep_delay_new|dep_del15|dep_delay_group|dep_time_blk|taxi_out|wheels_off|wheels_on|taxi_in|crs_arr_time|arr_time|arr_delay|arr_delay_new|arr_del15|arr_delay_group|arr_time_blk|cancelled|cancellation_code|diverted|crs_elapsed_time|actual_elapsed_time|air_time|flights|distance|distance_group|mon|carrier_delay|weather_delay|nas_delay|security_delay|late_aircraft_delay|first_dep_time|total_add_gtime|longest_add_gtime|\n+----+-------+-----+------------+-----------+--------+--------------+----------+-------+--------+------+-----------------+---------------------+---------------------+------+------------------+----------------+-----------------+---------------+----------+---------------+-------------------+-------------------+----+---------------+--------------+---------------+-------------+--------+------------+--------+---------+-------------+---------+---------------+------------+--------+----------+---------+-------+------------+--------+---------+-------------+---------+---------------+------------+---------+-----------------+--------+----------------+-------------------+--------+-------+--------+--------------+---+-------------+-------------+---------+--------------+-------------------+--------------+---------------+-----------------+\n|2016|      4|   11|          28|          1|11/28/16|            WN|     19393|     WN|  N8325D|  4349|            14843|              1484304|                34819|   SJU|      San Juan, PR|              PR|               72|    Puerto Rico|         3|          13204|            1320402|              31454| MCO|    Orlando, FL|            FL|             12|      Florida|      33|         740|     738|       -2|            0|        0|             -1|   0700-0759|      12|       750|      941|      9|         950|     950|        0|            0|        0|              0|   0900-0959|        0|                 |       0|             190|                192|     171|      1|    1189|             5| 11|         null|         null|     null|          null|               null|          null|           null|             null|\n|2016|      4|   11|          28|          1|11/28/16|            WN|     19393|     WN|  N439WN|  4409|            14843|              1484304|                34819|   SJU|      San Juan, PR|              PR|               72|    Puerto Rico|         3|          13204|            1320402|              31454| MCO|    Orlando, FL|            FL|             12|      Florida|      33|        1340|    1337|       -3|            0|        0|             -1|   1300-1359|      13|      1350|     1537|      8|        1550|    1545|       -5|            0|        0|             -1|   1500-1559|        0|                 |       0|             190|                188|     167|      1|    1189|             5| 11|         null|         null|     null|          null|               null|          null|           null|             null|\n|2016|      4|   11|          28|          1|11/28/16|            WN|     19393|     WN|  N8604K|  6377|            14843|              1484304|                34819|   SJU|      San Juan, PR|              PR|               72|    Puerto Rico|         3|          13204|            1320402|              31454| MCO|    Orlando, FL|            FL|             12|      Florida|      33|        1900|    1859|       -1|            0|        0|             -1|   1900-1959|      13|      1912|     2053|      7|        2110|    2100|      -10|            0|        0|             -1|   2100-2159|        0|                 |       0|             190|                181|     161|      1|    1189|             5| 11|         null|         null|     null|          null|               null|          null|           null|             null|\n|2016|      4|   11|          28|          1|11/28/16|            WN|     19393|     WN|  N8606C|  4896|            14843|              1484304|                34819|   SJU|      San Juan, PR|              PR|               72|    Puerto Rico|         3|          15304|            1530402|              33195| TPA|      Tampa, FL|            FL|             12|      Florida|      33|        1805|    1800|       -5|            0|        0|             -1|   1800-1859|      12|      1812|     2001|      6|        2015|    2007|       -8|            0|        0|             -1|   2000-2059|        0|                 |       0|             190|                187|     169|      1|    1237|             5| 11|         null|         null|     null|          null|               null|          null|           null|             null|\n|2016|      4|   11|          28|          1|11/28/16|            WN|     19393|     WN|  N8662F|  4899|            14843|              1484304|                34819|   SJU|      San Juan, PR|              PR|               72|    Puerto Rico|         3|          15304|            1530402|              33195| TPA|      Tampa, FL|            FL|             12|      Florida|      33|         830|     827|       -3|            0|        0|             -1|   0800-0859|      17|       844|     1039|      7|        1040|    1046|        6|            6|        0|              0|   1000-1059|        0|                 |       0|             190|                199|     175|      1|    1237|             5| 11|         null|         null|     null|          null|               null|          null|           null|             null|\n|2016|      4|   11|          28|          1|11/28/16|            WN|     19393|     WN|  N8664J|  5906|            14869|              1486903|                34614|   SLC|Salt Lake City, UT|              UT|               49|           Utah|        87|          10821|            1082104|              30852| BWI|  Baltimore, MD|            MD|             24|     Maryland|      35|        1430|    1431|        1|            1|        0|              0|   1400-1459|      50|      1521|     2051|      5|        2030|    2056|       26|           26|        1|              1|   2000-2059|        0|                 |       0|             240|                265|     210|      1|    1865|             8| 11|            0|            0|       26|             0|                  0|          null|           null|             null|\n|2016|      4|   11|          28|          1|11/28/16|            WN|     19393|     WN|  N209WN|  6397|            14869|              1486903|                34614|   SLC|Salt Lake City, UT|              UT|               49|           Utah|        87|          11259|            1125903|              30194| DAL|     Dallas, TX|            TX|             48|        Texas|      74|         840|     856|       16|           16|        1|              1|   0800-0859|      37|       933|     1240|      8|        1215|    1248|       33|           33|        1|              2|   1200-1259|        0|                 |       0|             155|                172|     127|      1|     999|             4| 11|           15|            0|       17|             0|                  1|          null|           null|             null|\n|2016|      4|   11|          28|          1|11/28/16|            WN|     19393|     WN|  N552WN|  2965|            14869|              1486903|                34614|   SLC|Salt Lake City, UT|              UT|               49|           Utah|        87|          11292|            1129202|              30325| DEN|     Denver, CO|            CO|              8|     Colorado|      82|        1650|    1648|       -2|            0|        0|             -1|   1600-1659|      36|      1724|     1823|      6|        1815|    1829|       14|           14|        0|              0|   1800-1859|        0|                 |       0|              85|                101|      59|      1|     391|             2| 11|            0|            0|       53|             0|                  0|          null|           null|             null|\n|2016|      4|   11|          28|          1|11/28/16|            WN|     19393|     WN|  N8681M|  3634|            14869|              1486903|                34614|   SLC|Salt Lake City, UT|              UT|               49|           Utah|        87|          11292|            1129202|              30325| DEN|     Denver, CO|            CO|              8|     Colorado|      82|         700|     656|       -4|            0|        0|             -1|   0700-0759|      57|       753|      854|      9|         850|     903|       13|           13|        0|              0|   0800-0859|        0|                 |       0|             110|                127|      61|      1|     391|             2| 11|         null|         null|     null|          null|               null|          null|           null|             null|\n|2016|      4|   11|          28|          1|11/28/16|            WN|     19393|     WN|  N7742B|  3931|            14869|              1486903|                34614|   SLC|Salt Lake City, UT|              UT|               49|           Utah|        87|          11292|            1129202|              30325| DEN|     Denver, CO|            CO|              8|     Colorado|      82|        1855|    1915|       20|           20|        1|              1|   1800-1859|      35|      1950|     2047|      9|        2020|    2056|       36|           36|        1|              2|   2000-2059|        0|                 |       0|              85|                101|      57|      1|     391|             2| 11|            2|            0|       16|             0|                 18|          null|           null|             null|\n|2016|      4|   11|          28|          1|11/28/16|            WN|     19393|     WN|  N634SW|  4629|            14869|              1486903|                34614|   SLC|Salt Lake City, UT|              UT|               49|           Utah|        87|          11292|            1129202|              30325| DEN|     Denver, CO|            CO|              8|     Colorado|      82|        2150|    2235|       45|           45|        1|              3|   2100-2159|      15|      2250|     2348|      6|        2315|    2354|       39|           39|        1|              2|   2300-2359|        0|                 |       0|              85|                 79|      58|      1|     391|             2| 11|            0|            0|        0|             0|                 39|          null|           null|             null|\n|2016|      4|   11|          28|          1|11/28/16|            WN|     19393|     WN|  N401WN|  6210|            14869|              1486903|                34614|   SLC|Salt Lake City, UT|              UT|               49|           Utah|        87|          11292|            1129202|              30325| DEN|     Denver, CO|            CO|              8|     Colorado|      82|        1020|    1034|       14|           14|        0|              0|   1000-1059|      38|      1112|     1213|      6|        1145|    1219|       34|           34|        1|              2|   1100-1159|        0|                 |       0|              85|                105|      61|      1|     391|             2| 11|            5|            0|       20|             0|                  9|          null|           null|             null|\n|2016|      4|   11|          28|          1|11/28/16|            WN|     19393|     WN|  N799SW|  3601|            14869|              1486903|                34614|   SLC|Salt Lake City, UT|              UT|               49|           Utah|        87|          12889|            1288903|              32211| LAS|  Las Vegas, NV|            NV|             32|       Nevada|      85|         750|     744|       -6|            0|        0|             -1|   0700-0759|      55|       839|      833|      4|         820|     837|       17|           17|        1|              1|   0800-0859|        0|                 |       0|              90|                113|      54|      1|     368|             2| 11|            0|            0|       17|             0|                  0|          null|           null|             null|\n|2016|      4|   11|          28|          1|11/28/16|            WN|     19393|     WN|  N606SW|  4485|            14869|              1486903|                34614|   SLC|Salt Lake City, UT|              UT|               49|           Utah|        87|          12889|            1288903|              32211| LAS|  Las Vegas, NV|            NV|             32|       Nevada|      85|        2120|    2131|       11|           11|        0|              0|   2100-2159|       9|      2140|     2134|      6|        2140|    2140|        0|            0|        0|              0|   2100-2159|        0|                 |       0|              80|                 69|      54|      1|     368|             2| 11|         null|         null|     null|          null|               null|          null|           null|             null|\n|2016|      4|   11|          28|          1|11/28/16|            WN|     19393|     WN|  N8675A|  4570|            14869|              1486903|                34614|   SLC|Salt Lake City, UT|              UT|               49|           Utah|        87|          12889|            1288903|              32211| LAS|  Las Vegas, NV|            NV|             32|       Nevada|      85|        1100|    1055|       -5|            0|        0|             -1|   1100-1159|      44|      1139|     1136|      6|        1115|    1142|       27|           27|        1|              1|   1100-1159|        0|                 |       0|              75|                107|      57|      1|     368|             2| 11|            0|            0|       27|             0|                  0|          null|           null|             null|\n|2016|      4|   11|          28|          1|11/28/16|            WN|     19393|     WN|  N261WN|  5826|            14869|              1486903|                34614|   SLC|Salt Lake City, UT|              UT|               49|           Utah|        87|          12889|            1288903|              32211| LAS|  Las Vegas, NV|            NV|             32|       Nevada|      85|        1305|    1306|        1|            1|        0|              0|   1300-1359|       9|      1315|     1312|      4|        1320|    1316|       -4|            0|        0|             -1|   1300-1359|        0|                 |       0|              75|                 70|      57|      1|     368|             2| 11|            0|            0|        0|             0|                 41|          null|           null|             null|\n|2016|      4|   11|          28|          1|11/28/16|            WN|     19393|     WN|  N7831B|  2715|            14869|              1486903|                34614|   SLC|Salt Lake City, UT|              UT|               49|           Utah|        87|          12892|            1289204|              32575| LAX|Los Angeles, CA|            CA|              6|   California|      91|        1725|    1841|       76|           76|        1|              5|   1700-1759|      32|      1913|     1939|     11|        1825|    1950|       85|           85|        1|              5|   1800-1859|        0|                 |       0|             120|                129|      86|      1|     590|             3| 11|           62|            0|        9|             0|                 14|          null|           null|             null|\n|2016|      4|   11|          28|          1|11/28/16|            WN|     19393|     WN|  N8652B|  5756|            14869|              1486903|                34614|   SLC|Salt Lake City, UT|              UT|               49|           Utah|        87|          12892|            1289204|              32575| LAX|Los Angeles, CA|            CA|              6|   California|      91|         540|     538|       -2|            0|        0|             -1|   0001-0559|      33|       611|      635|     10|         700|     645|      -15|            0|        0|             -1|   0700-0759|        0|                 |       0|             140|                127|      84|      1|     590|             3| 11|         null|         null|     null|          null|               null|          null|           null|             null|\n|2016|      4|   11|          28|          1|11/28/16|            WN|     19393|     WN|  N8674B|  4199|            14869|              1486903|                34614|   SLC|Salt Lake City, UT|              UT|               49|           Utah|        87|          13232|            1323202|              30977| MDW|    Chicago, IL|            IL|             17|     Illinois|      41|        1800|    1758|       -2|            0|        0|             -1|   1800-1859|      53|      1851|     2230|      6|        2155|    2236|       41|           41|        1|              2|   2100-2159|        0|                 |       0|             175|                218|     159|      1|    1259|             6| 11|            0|            0|       41|             0|                  0|          null|           null|             null|\n|2016|      4|   11|          28|          1|11/28/16|            WN|     19393|     WN|  N8303R|  6215|            14869|              1486903|                34614|   SLC|Salt Lake City, UT|              UT|               49|           Utah|        87|          13232|            1323202|              30977| MDW|    Chicago, IL|            IL|             17|     Illinois|      41|         845|     851|        6|            6|        0|              0|   0800-0859|      41|       932|     1309|      5|        1255|    1314|       19|           19|        1|              1|   1200-1259|        0|                 |       0|             190|                203|     157|      1|    1259|             6| 11|            6|            0|       13|             0|                  0|          null|           null|             null|\n+----+-------+-----+------------+-----------+--------+--------------+----------+-------+--------+------+-----------------+---------------------+---------------------+------+------------------+----------------+-----------------+---------------+----------+---------------+-------------------+-------------------+----+---------------+--------------+---------------+-------------+--------+------------+--------+---------+-------------+---------+---------------+------------+--------+----------+---------+-------+------------+--------+---------+-------------+---------+---------------+------------+---------+-----------------+--------+----------------+-------------------+--------+-------+--------+--------------+---+-------------+-------------+---------+--------------+-------------------+--------------+---------------+-----------------+\nonly showing top 20 rows\n\n/opt/amazon/spark/python/lib/pyspark.zip/pyspark/sql/dataframe.py:127: UserWarning: DataFrame constructor is internal. Do not directly use it.\n",
					"output_type": "stream"
				}
			]
		},
		{
			"cell_type": "code",
			"source": "df.count() ",
			"metadata": {
				"trusted": true,
				"tags": []
			},
			"execution_count": 5,
			"outputs": [
				{
					"name": "stdout",
					"text": "5248439\n",
					"output_type": "stream"
				}
			]
		},
		{
			"cell_type": "code",
			"source": "df.groupBy(\"month\").avg(\"weather_delay\").show()",
			"metadata": {
				"trusted": true,
				"tags": []
			},
			"execution_count": 7,
			"outputs": [
				{
					"name": "stdout",
					"text": "+-----+------------------+\n|month|avg(weather_delay)|\n+-----+------------------+\n|    6|3.0652843235918334|\n|    7|3.7375463244161584|\n|    1| 2.836573460116814|\n|    8|2.6909718529118845|\n|    2| 3.420119974059663|\n|    5| 2.978542477946436|\n|    9|2.2802970825613165|\n|   10|1.0367928260582884|\n|   11|1.8415311529325782|\n|    3|2.1046518669234215|\n|    4|2.0263035416697943|\n|   12|3.2350931047464595|\n+-----+------------------+\n",
					"output_type": "stream"
				}
			]
		},
		{
			"cell_type": "code",
			"source": "df.groupBy(\"carrier\").avg(\"dep_delay\").show()",
			"metadata": {
				"trusted": true,
				"tags": []
			},
			"execution_count": 8,
			"outputs": [
				{
					"name": "stdout",
					"text": "+-------+--------------------+\n|carrier|      avg(dep_delay)|\n+-------+--------------------+\n|     VX|  11.430539700659564|\n|     DL|   8.046840033440557|\n|     B6|  14.078356804135487|\n|     UA|    11.4228323487426|\n|     HA|-0.05495938351609...|\n|     OO|   7.491768940979489|\n|     F9|  13.005154146165209|\n|     NK|  12.359647183659032|\n|     EV|   9.602250750250084|\n|     AS|  0.6186801842342103|\n|     AA|   9.788575652992082|\n|     WN|    9.50768465033291|\n+-------+--------------------+\n",
					"output_type": "stream"
				}
			]
		},
		{
			"cell_type": "code",
			"source": "",
			"metadata": {},
			"execution_count": null,
			"outputs": []
		}
	]
}